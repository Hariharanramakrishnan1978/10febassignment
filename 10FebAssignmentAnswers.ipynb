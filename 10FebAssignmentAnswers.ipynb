{
 "cells": [
  {
   "cell_type": "markdown",
   "id": "0f95015e-bdd0-4b82-9bf5-69d291fb82f5",
   "metadata": {},
   "source": [
    "Q1. Which function is used to open a file? What are the different modes of opening a file? Explain each mode \n",
    "of file opening."
   ]
  },
  {
   "cell_type": "markdown",
   "id": "11f20759-05e3-40db-919e-f44c36b2f2c8",
   "metadata": {},
   "source": [
    "open is the method used to open the file and below are the modes of opening a file.\n",
    "\n",
    "f = open(filename, mode)\n",
    "\n",
    "Where the following mode is supported:\n",
    "\n",
    "r: open an existing file for a read operation.\n",
    "w: open an existing file for a write operation. If the file already contains some data then it will be overridden but if the file is not present then it creates the file as well.\n",
    "a:  open an existing file for append operation. It won’t override existing data.\n",
    "r+:  To read and write data into the file. The previous data in the file will be overridden.\n",
    "w+: To write and read data. It will override existing data.\n",
    "a+: To append and read data from the file. It won’t override existing data."
   ]
  },
  {
   "cell_type": "markdown",
   "id": "d96178ff-9253-493e-b9de-bd9243d85bb2",
   "metadata": {},
   "source": [
    "Q2. Why close() function is used? Why is it important to close a file?"
   ]
  },
  {
   "cell_type": "markdown",
   "id": "c3828b24-d782-4c71-8edc-530353d17bbd",
   "metadata": {},
   "source": [
    "close function is used to close the opened file.\n",
    "\n",
    "It can slow down your program. Too many things open, and thus more used space in the RAM, will impact performance. \n",
    "Sometimes writing of the content will be reflected only after closure of files.\n",
    "When there are multiple programs which consume the same file, when file is not closed after usage might hamper the other program execution which is dependent on it"
   ]
  },
  {
   "cell_type": "markdown",
   "id": "2bfa7006-6d2d-48e1-b407-ff2b0e8cbf55",
   "metadata": {},
   "source": [
    "Q3. Write a python program to create a text file. Write ‘I want to become a Data Scientist’ in that file. Then \n",
    "close the file. Open this file and read the content of the file.  "
   ]
  },
  {
   "cell_type": "code",
   "execution_count": null,
   "id": "b9021e03-1e0f-4af0-ace7-ec380168797f",
   "metadata": {},
   "outputs": [],
   "source": [
    "file1 = open(\"MyFile.txt\", \"w\")\n",
    "file1.write(\"I want to become a Data Scientist\")\n",
    "file1.close\n",
    "file2=open(\"MyFile.txt\",\"r\")\n",
    "print(file2.read())\n",
    "file2.close()"
   ]
  },
  {
   "cell_type": "markdown",
   "id": "ff9926eb-6ec5-46a6-b2ed-944f985cbc9a",
   "metadata": {},
   "source": [
    "Q4. Explain the following with python code: read(), readline() and readlines()."
   ]
  },
  {
   "cell_type": "markdown",
   "id": "1822c642-5c8e-4771-93c1-cc9215547305",
   "metadata": {},
   "source": [
    "The read() method returns the specified number of bytes from the file. Default is -1 which means the whole file.\n",
    "The readline() method returns one line from the file.\n",
    "The readlines() method returns a list containing each line in the file as a list item."
   ]
  },
  {
   "cell_type": "markdown",
   "id": "4000cf05-d8c8-4a36-adb6-dfe3b42e9d5b",
   "metadata": {},
   "source": [
    "Q5. Explain why with statement is used with open(). What is the advantage of using with statement and \n",
    "open() together?"
   ]
  },
  {
   "cell_type": "markdown",
   "id": "7311821c-6f64-4938-b1bf-b489e02753db",
   "metadata": {},
   "source": [
    "Unlike open() where you have to close the file with the close() method, the with statement closes the file for you without you telling it to.\n",
    "\n",
    "This is because the with statement calls 2 built-in methods behind the scene – __enter()__ and __exit()__.\n",
    "\n",
    "The __exit()__ method closes the file when the operation you specify is done.\n",
    "\n",
    "Advantage of using with statement and open() together:\n",
    "Automatic closure of file as soon as file operation is completed when it comes out of with "
   ]
  },
  {
   "cell_type": "markdown",
   "id": "55d7624c-3a30-4fa2-bf7c-e847d38d1ade",
   "metadata": {},
   "source": [
    "Q6. Explain the write() and writelines() functions. Give a suitable example."
   ]
  },
  {
   "cell_type": "markdown",
   "id": "bbb53161-3a26-4f94-a16c-e2a047a323c1",
   "metadata": {},
   "source": [
    "write() function : The write() method writes a specified text to the file\n",
    "Where the specified text will be inserted depends on the file mode and stream position.\n",
    "\n",
    "\"a\":  The text will be inserted at the current file stream position, default at the end of the file.\n",
    "\n",
    "\"w\": The file will be emptied before the text will be inserted at the current file stream position, default 0.\n",
    "\n",
    "writelines() function: The writelines() method writes the items of a list to the file.\n",
    "\n",
    "Where the texts will be inserted depends on the file mode and stream position.\n",
    "\n",
    "\"a\":  The texts will be inserted at the current file stream position, default at the end of the file.\n",
    "\n",
    "\"w\": The file will be emptied before the texts will be inserted at the current file stream position, default 0"
   ]
  },
  {
   "cell_type": "code",
   "execution_count": null,
   "id": "2a973329-42b8-493f-9851-1b837c944fcc",
   "metadata": {},
   "outputs": [],
   "source": [
    "f = open(\"demofile3.txt\", \"a\")\n",
    "f.writelines([\"\\n I am strudying Data Science Masters Course!\", \"\\nCourse will complete in 7 months duration\"])\n",
    "f.close()\n",
    "\n",
    "#open and read the file after the appending:\n",
    "f = open(\"demofile3.txt\", \"r\")\n",
    "print(f.read())"
   ]
  },
  {
   "cell_type": "code",
   "execution_count": null,
   "id": "361fb0f5-1c6e-4c6a-9ef7-660a8b9fb1a3",
   "metadata": {},
   "outputs": [],
   "source": []
  },
  {
   "cell_type": "code",
   "execution_count": null,
   "id": "4487c948-d48c-4f03-adbd-4b7c4f80dfa9",
   "metadata": {},
   "outputs": [],
   "source": []
  }
 ],
 "metadata": {
  "kernelspec": {
   "display_name": "Python 3 (ipykernel)",
   "language": "python",
   "name": "python3"
  },
  "language_info": {
   "codemirror_mode": {
    "name": "ipython",
    "version": 3
   },
   "file_extension": ".py",
   "mimetype": "text/x-python",
   "name": "python",
   "nbconvert_exporter": "python",
   "pygments_lexer": "ipython3",
   "version": "3.10.8"
  }
 },
 "nbformat": 4,
 "nbformat_minor": 5
}
